{
 "cells": [
  {
   "cell_type": "markdown",
   "metadata": {},
   "source": [
    "# Capstone Webscraping using BeautifulSoup\n",
    "\n",
    "This notebook contains guidances & tasks on the data processing for the application\n",
    "\n",
    "## Background\n",
    "\n",
    "I am interested in this web scrapping capstone project because it provides an opportunity to gather valuable data from website. By scrapping data from the web, I can extract and analyze information directly from various sources. In this project I will analyze the inflation trends over a specific period by scrapping data from the website 'https://pusatdata.kontan.co.id/makroekonomi/inflasi' to gain insight into inflation trends during the period from July 31, 2020, to August 31, 2024, I aim to identify the months and years with the highest and lowest inflation rates and compare the statistical data analyzed on a month-over-month (MoM) and year-over-year (YoY) basis & make the conclusion. To visualize these insights, I will use a grouped bar chart that compares the average, maximum, minimum, and median inflation rates for both MoM and YoY across each year within the specified period.\n",
    "\n",
    "Step-by-Step Plan:\n",
    "1. Send an HTTP Request: Use the requests library to fetch the webpage.\n",
    "2. Parse the HTML: Use BeautifulSoup to parse the HTML content and locate the relevant data.\n",
    "3. Extract the Data: Identify the table or tags that contain the inflation data and extract it into a structured format.\n",
    "4. Create a DataFrame: Convert the extracted data into a pandas DataFrame.\n",
    "5. Data Wrangling: Clean and prepare the data for visualization.\n",
    "6. Visualize the Data: Use matplotlib to plot the data.\n",
    "7. Analyze the Data and make a conclusion.\n",
    "\n",
    "## Requesting the Data and Creating a BeautifulSoup\n",
    "\n",
    "Let's start by requesting the webpage using the `get` method from the `requests` library."
   ]
  },
  {
   "cell_type": "code",
   "execution_count": 157,
   "metadata": {
    "ExecuteTime": {
     "end_time": "2020-01-13T05:12:23.275508Z",
     "start_time": "2020-01-13T05:12:20.009898Z"
    }
   },
   "outputs": [
    {
     "data": {
      "text/plain": [
       "<Response [200]>"
      ]
     },
     "execution_count": 157,
     "metadata": {},
     "output_type": "execute_result"
    }
   ],
   "source": [
    "#1. Install Required Libraries and send a GET request to the webpage, then check if the request was successful.\n",
    "# If respon status code == 200, means the request is successful!\n",
    "import requests\n",
    "\n",
    "url_get = requests.get('https://pusatdata.kontan.co.id/makroekonomi/inflasi')\n",
    "url_get"
   ]
  },
  {
   "cell_type": "markdown",
   "metadata": {},
   "source": [
    "To visualize what exactly you get from the `request.get`, we can use `.content` so see what we exactly get (HTML content), in here i slice it so it won't make our screen full of the html we get from the page. You can delete the slicing if you want to see what we fully get."
   ]
  },
  {
   "cell_type": "code",
   "execution_count": 158,
   "metadata": {
    "ExecuteTime": {
     "end_time": "2020-01-13T05:12:23.290648Z",
     "start_time": "2020-01-13T05:12:23.277650Z"
    }
   },
   "outputs": [
    {
     "data": {
      "text/plain": [
       "b'!DOCTYPE html PUBLIC \"-//W3C//DTD XHTML 1.0 Transitional//EN\" \"http://www.w3.org/TR/xhtml1/DTD/xhtml1-transitional.dtd\">\\n<html xmlns=\"http://www.w3.org/1999/xhtml\">\\n<head>\\n    <meta http-equiv=\"Content-Type\" content=\"text/html; charset=utf-8\" />\\n    <meta name=\"viewport\" content=\"width=device-width, initial-scale=1.0\">\\n    <link rel=\"shortcut icon\" href=\"//assets.kontan.co.id/favicon.ico\"/>\\n    <link rel=\"stylesheet\" href=\"https://asset.kontan.co.id/general/third-party/font-awesome-4.7.0/css/fo'"
      ]
     },
     "execution_count": 158,
     "metadata": {},
     "output_type": "execute_result"
    }
   ],
   "source": [
    "url_get.content[1:500]"
   ]
  },
  {
   "cell_type": "markdown",
   "metadata": {},
   "source": [
    "As we can see we get a very unstructured and complex html, which actually contains the codes needed to show the webpages on your web browser. But we as human still confused what and where we can use that piece of code, so here where we use the beautifulsoup. Beautiful soup class will result a beautifulsoup object. Beautiful Soup transforms a complex HTML document into a complex tree of Python objects. \n",
    "\n",
    "Let's create a BeautifulSoup object and feel free to explore the object here."
   ]
  },
  {
   "cell_type": "code",
   "execution_count": 159,
   "metadata": {
    "ExecuteTime": {
     "end_time": "2020-01-13T05:12:23.808122Z",
     "start_time": "2020-01-13T05:12:23.292610Z"
    }
   },
   "outputs": [
    {
     "name": "stdout",
     "output_type": "stream",
     "text": [
      "<class 'bs4.BeautifulSoup'>\n"
     ]
    }
   ],
   "source": [
    "#2. Import the Libraries\n",
    "from bs4 import BeautifulSoup \n",
    "\n",
    "soup = BeautifulSoup(url_get.content,\"html.parser\")\n",
    "print(type(soup))"
   ]
  },
  {
   "cell_type": "code",
   "execution_count": 160,
   "metadata": {},
   "outputs": [
    {
     "name": "stdout",
     "output_type": "stream",
     "text": [
      "!DOCTYPE html PUBLIC \"-//W3C//DTD XHTML 1.0 Transitional//EN\" \"http://www.w3.org/TR/xhtml1/DTD/xhtml1-transitional.dtd\">\n",
      "<html xmlns=\"http://www.w3.org/1999/xhtml\">\n",
      " <head>\n",
      "  <meta content=\"text/html; charset=utf-8\" http-equiv=\"Content-Type\"/>\n",
      "  <meta content=\"width=device-width, initial-scale=1.0\" name=\"viewport\"/>\n",
      "  <link href=\"//assets.kontan.co.id/favicon.ico\" rel=\"shortcut icon\"/>\n",
      "  <link href=\"https://asset.kontan.co.id/general/third-party/font-awesome-4.7.0/css/font-awesome.min.css\" rel=\n"
     ]
    }
   ],
   "source": [
    "print(soup.prettify()[1:500])"
   ]
  },
  {
   "cell_type": "markdown",
   "metadata": {},
   "source": [
    "## Finding the right key to scrap the data & Extracting the right information"
   ]
  },
  {
   "cell_type": "markdown",
   "metadata": {},
   "source": [
    "To extract the desired information, we need to find the right key using the .find() method. We can explore the HTML structure using .prettify().\n",
    "\n",
    "*(to extract the desired information from a webpage, we need to understand its underlying HTML structure. The .find() method in BeautifulSoup is used to search for specific HTML elements/tags that contain the data we want, but to make it effective, we need to know the exact tags/classes/IDs associated with that data. The .preetify( method in BeautifulSoap helps us format the raw HTML content in a more readable and indented way for easier navigation, efficient data extraction, etc. by combining .prettify() with -find(), we can efficiently locate and extract the necessary information from any webpage)*"
   ]
  },
  {
   "cell_type": "code",
   "execution_count": 161,
   "metadata": {
    "ExecuteTime": {
     "end_time": "2020-01-13T05:12:23.878904Z",
     "start_time": "2020-01-13T05:12:23.854974Z"
    }
   },
   "outputs": [
    {
     "name": "stdout",
     "output_type": "stream",
     "text": [
      "div class=\"baris-scroll\">\n",
      " <div class=\"tabel-body\">\n",
      "  <div class=\"kol-konten3-1\">\n",
      "   31/08/2024\n",
      "  </div>\n",
      "  <div class=\"kol-konten3-2\">\n",
      "   <div class=\"w-30-px txtright center-max\">\n",
      "    0,03\n",
      "   </div>\n",
      "  </div>\n",
      "  <div class=\"kol-konten3-3\">\n",
      "   <div class=\"w-30-px txtright center-max\">\n",
      "    2,12\n",
      "   </div>\n",
      "  </div>\n",
      " </div>\n",
      " <div class=\"tabel-body\">\n",
      "  <div class=\"kol-konten3-1\">\n",
      "   31/07/2024\n",
      "  </div>\n",
      "  <div class=\"kol-konten3-2\">\n",
      "   <div class=\"w-30-px txtright center-max\">\n",
      "    0,18\n",
      "   </div>\n",
      "  </div\n"
     ]
    }
   ],
   "source": [
    "table = soup.find('div', attrs= {'class':'baris-scroll'})\n",
    "print(table.prettify()[1:500])"
   ]
  },
  {
   "cell_type": "code",
   "execution_count": 162,
   "metadata": {},
   "outputs": [
    {
     "data": {
      "text/plain": [
       "[<div class=\"kol-konten3-1\">31/08/2024</div>,\n",
       " <div class=\"kol-konten3-1\">31/07/2024</div>,\n",
       " <div class=\"kol-konten3-1\">30/06/2024</div>,\n",
       " <div class=\"kol-konten3-1\">31/05/2024</div>,\n",
       " <div class=\"kol-konten3-1\">30/04/2024</div>]"
      ]
     },
     "execution_count": 162,
     "metadata": {},
     "output_type": "execute_result"
    }
   ],
   "source": [
    "table.find_all('div', attrs={'class':'kol-konten3-1'})[:5]"
   ]
  },
  {
   "cell_type": "markdown",
   "metadata": {},
   "source": [
    "Next, we need to find the row length."
   ]
  },
  {
   "cell_type": "code",
   "execution_count": 163,
   "metadata": {},
   "outputs": [
    {
     "data": {
      "text/plain": [
       "50"
      ]
     },
     "execution_count": 163,
     "metadata": {},
     "output_type": "execute_result"
    }
   ],
   "source": [
    "row = table.find_all('div', attrs={'class':'kol-konten3-1'})\n",
    "row_length = len(row)\n",
    "row_length"
   ]
  },
  {
   "cell_type": "markdown",
   "metadata": {},
   "source": [
    "Do the scrapping process here (please change this markdown with your explanation). \n",
    "\n",
    "> You can use a for loop to perform the scraping process in various ways depending on the HTML structure of the website you want to scrap and the information you want to retrieve.\n",
    "\n",
    "> To perform the web scraping proces, you can use a 'for' loop in combination with BeautifulSoup to iterate over multiple elements on a webpage.\n",
    "\n",
    "> This specific approach we use will depend on the structure of the HTML and the information we want to extract with automatic process.\n",
    "\n",
    "> By using 'for' loop, we can efficiently scrape multiple pieces of information from a webpage in a structured and repeatable manner."
   ]
  },
  {
   "cell_type": "code",
   "execution_count": 164,
   "metadata": {
    "ExecuteTime": {
     "end_time": "2020-01-13T05:12:24.008256Z",
     "start_time": "2020-01-13T05:12:23.980358Z"
    }
   },
   "outputs": [
    {
     "data": {
      "text/plain": [
       "[('31/08/2024', '0,03', '2,12'),\n",
       " ('31/07/2024', '0,18', '2,13'),\n",
       " ('30/06/2024', '0,08', '2,51'),\n",
       " ('31/05/2024', '0,03', '2,84'),\n",
       " ('30/04/2024', '0,25', '3,00'),\n",
       " ('31/03/2024', '0,52', '3,05'),\n",
       " ('29/02/2024', '0,37', '2,75'),\n",
       " ('31/01/2024', '0,04', '2,57'),\n",
       " ('31/12/2023', '0,41', '2,61'),\n",
       " ('30/11/2023', '0,38', '2,86'),\n",
       " ('31/10/2023', '0,17', '2,56'),\n",
       " ('30/09/2023', '0,19', '2,28'),\n",
       " ('31/08/2023', '0,02', '3,27'),\n",
       " ('31/07/2023', '0,21', '3,08'),\n",
       " ('30/06/2023', '0.14', '3.52'),\n",
       " ('31/05/2023', '0.09', '4.00'),\n",
       " ('30/04/2023', '0,33', '4,33'),\n",
       " ('31/03/2023', '0.18', '4.97'),\n",
       " ('28/02/2023', '0,16', '5,47'),\n",
       " ('31/01/2023', '0,34', '5,28'),\n",
       " ('31/12/2022', '0,66', '5,51'),\n",
       " ('30/11/2022', '0,09', '5,42'),\n",
       " ('31/10/2022', '0,11', '5,71'),\n",
       " ('30/09/2022', '1,17', '5,95'),\n",
       " ('31/08/2022', '0,21', '4,69'),\n",
       " ('31/07/2022', '0,64', '4,94'),\n",
       " ('30/06/2022', '0.61', '4.35'),\n",
       " ('31/05/2022', '0,40', '3,55'),\n",
       " ('30/04/2022', '0,95', '3,47'),\n",
       " ('31/03/2022', '0.66', '2.64'),\n",
       " ('28/02/2022', '0,54', '2,06'),\n",
       " ('31/01/2022', '0,56', '2,18'),\n",
       " ('31/12/2021', '0,57', '1,87'),\n",
       " ('30/11/2021', '0,37', '1,75'),\n",
       " ('31/10/2021', '0,12', '1,66'),\n",
       " ('30/09/2021', '0,04', '1,60'),\n",
       " ('31/08/2021', '0,03', '1,59'),\n",
       " ('31/07/2021', '0,08', '1,52'),\n",
       " ('30/06/2021', '0,16', '1,33'),\n",
       " ('31/05/2021', '0,32', '1,68'),\n",
       " ('30/04/2021', '0,13', '1,42'),\n",
       " ('31/03/2021', '0,08', '1,37'),\n",
       " ('28/02/2021', '0,10', '1.38'),\n",
       " ('31/01/2021', '0,26', '1.55'),\n",
       " ('31/12/2020', '0,45', '1.68'),\n",
       " ('30/11/2020', '0,28', '1.59'),\n",
       " ('31/10/2020', '0,07', '1.44'),\n",
       " ('30/09/2020', '0,05', '1,42'),\n",
       " ('31/08/2020', '0.05', '1.32'),\n",
       " ('31/07/2020', '0.04', '1.54')]"
      ]
     },
     "execution_count": 164,
     "metadata": {},
     "output_type": "execute_result"
    }
   ],
   "source": [
    "temp = []  # Initiating a tuple\n",
    "\n",
    "for i in range(0, row_length):\n",
    "\n",
    "    #get period\n",
    "    period = table.find_all('div', attrs={'class':'kol-konten3-1'})[i].text\n",
    "\n",
    "    #get inflation mom\n",
    "    inflation_mom = table.find_all('div', attrs={'class':'kol-konten3-2'})[i].text\n",
    "    inflation_mom = inflation_mom.strip() #to remove excess white space\n",
    "\n",
    "    #get inflation yoy\n",
    "    inflation_yoy = table.find_all('div', attrs={'class':'kol-konten3-3'})[i].text\n",
    "    inflation_yoy = inflation_yoy.strip() #to remove excess white space\n",
    "\n",
    "    temp.append((period,inflation_mom,inflation_yoy))\n",
    "\n",
    "    # Scraping process\n",
    "    # You can add your scraping code here\n",
    "    \n",
    "temp"
   ]
  },
  {
   "cell_type": "code",
   "execution_count": 165,
   "metadata": {},
   "outputs": [
    {
     "data": {
      "text/plain": [
       "[('31/07/2020', '0.04', '1.54'),\n",
       " ('31/08/2020', '0.05', '1.32'),\n",
       " ('30/09/2020', '0,05', '1,42'),\n",
       " ('31/10/2020', '0,07', '1.44'),\n",
       " ('30/11/2020', '0,28', '1.59'),\n",
       " ('31/12/2020', '0,45', '1.68'),\n",
       " ('31/01/2021', '0,26', '1.55'),\n",
       " ('28/02/2021', '0,10', '1.38'),\n",
       " ('31/03/2021', '0,08', '1,37'),\n",
       " ('30/04/2021', '0,13', '1,42'),\n",
       " ('31/05/2021', '0,32', '1,68'),\n",
       " ('30/06/2021', '0,16', '1,33'),\n",
       " ('31/07/2021', '0,08', '1,52'),\n",
       " ('31/08/2021', '0,03', '1,59'),\n",
       " ('30/09/2021', '0,04', '1,60'),\n",
       " ('31/10/2021', '0,12', '1,66'),\n",
       " ('30/11/2021', '0,37', '1,75'),\n",
       " ('31/12/2021', '0,57', '1,87'),\n",
       " ('31/01/2022', '0,56', '2,18'),\n",
       " ('28/02/2022', '0,54', '2,06'),\n",
       " ('31/03/2022', '0.66', '2.64'),\n",
       " ('30/04/2022', '0,95', '3,47'),\n",
       " ('31/05/2022', '0,40', '3,55'),\n",
       " ('30/06/2022', '0.61', '4.35'),\n",
       " ('31/07/2022', '0,64', '4,94'),\n",
       " ('31/08/2022', '0,21', '4,69'),\n",
       " ('30/09/2022', '1,17', '5,95'),\n",
       " ('31/10/2022', '0,11', '5,71'),\n",
       " ('30/11/2022', '0,09', '5,42'),\n",
       " ('31/12/2022', '0,66', '5,51'),\n",
       " ('31/01/2023', '0,34', '5,28'),\n",
       " ('28/02/2023', '0,16', '5,47'),\n",
       " ('31/03/2023', '0.18', '4.97'),\n",
       " ('30/04/2023', '0,33', '4,33'),\n",
       " ('31/05/2023', '0.09', '4.00'),\n",
       " ('30/06/2023', '0.14', '3.52'),\n",
       " ('31/07/2023', '0,21', '3,08'),\n",
       " ('31/08/2023', '0,02', '3,27'),\n",
       " ('30/09/2023', '0,19', '2,28'),\n",
       " ('31/10/2023', '0,17', '2,56'),\n",
       " ('30/11/2023', '0,38', '2,86'),\n",
       " ('31/12/2023', '0,41', '2,61'),\n",
       " ('31/01/2024', '0,04', '2,57'),\n",
       " ('29/02/2024', '0,37', '2,75'),\n",
       " ('31/03/2024', '0,52', '3,05'),\n",
       " ('30/04/2024', '0,25', '3,00'),\n",
       " ('31/05/2024', '0,03', '2,84'),\n",
       " ('30/06/2024', '0,08', '2,51'),\n",
       " ('31/07/2024', '0,18', '2,13'),\n",
       " ('31/08/2024', '0,03', '2,12')]"
      ]
     },
     "execution_count": 165,
     "metadata": {},
     "output_type": "execute_result"
    }
   ],
   "source": [
    "#to do a further analysis, we reverse this list\n",
    "temp = temp[::-1]\n",
    "temp"
   ]
  },
  {
   "cell_type": "markdown",
   "metadata": {},
   "source": [
    "Note: You can customize the code inside the loop according to your needs to extract the desired information from the website you scrap. Make sure to check and adjust the code well to suit the HTML structure and information you want to retrieve."
   ]
  },
  {
   "cell_type": "markdown",
   "metadata": {},
   "source": [
    "## Creating data frame & Data wrangling"
   ]
  },
  {
   "cell_type": "markdown",
   "metadata": {},
   "source": [
    "Once we have extracted the data, we can put it into a dataframe."
   ]
  },
  {
   "cell_type": "code",
   "execution_count": 167,
   "metadata": {
    "ExecuteTime": {
     "end_time": "2020-01-13T05:12:41.517372Z",
     "start_time": "2020-01-13T05:12:29.130015Z"
    }
   },
   "outputs": [
    {
     "data": {
      "text/plain": [
       "<bound method NDFrame.head of         period inflation_mom inflation_yoy\n",
       "0   31/07/2020          0.04          1.54\n",
       "1   31/08/2020          0.05          1.32\n",
       "2   30/09/2020          0,05          1,42\n",
       "3   31/10/2020          0,07          1.44\n",
       "4   30/11/2020          0,28          1.59\n",
       "5   31/12/2020          0,45          1.68\n",
       "6   31/01/2021          0,26          1.55\n",
       "7   28/02/2021          0,10          1.38\n",
       "8   31/03/2021          0,08          1,37\n",
       "9   30/04/2021          0,13          1,42\n",
       "10  31/05/2021          0,32          1,68\n",
       "11  30/06/2021          0,16          1,33\n",
       "12  31/07/2021          0,08          1,52\n",
       "13  31/08/2021          0,03          1,59\n",
       "14  30/09/2021          0,04          1,60\n",
       "15  31/10/2021          0,12          1,66\n",
       "16  30/11/2021          0,37          1,75\n",
       "17  31/12/2021          0,57          1,87\n",
       "18  31/01/2022          0,56          2,18\n",
       "19  28/02/2022          0,54          2,06\n",
       "20  31/03/2022          0.66          2.64\n",
       "21  30/04/2022          0,95          3,47\n",
       "22  31/05/2022          0,40          3,55\n",
       "23  30/06/2022          0.61          4.35\n",
       "24  31/07/2022          0,64          4,94\n",
       "25  31/08/2022          0,21          4,69\n",
       "26  30/09/2022          1,17          5,95\n",
       "27  31/10/2022          0,11          5,71\n",
       "28  30/11/2022          0,09          5,42\n",
       "29  31/12/2022          0,66          5,51\n",
       "30  31/01/2023          0,34          5,28\n",
       "31  28/02/2023          0,16          5,47\n",
       "32  31/03/2023          0.18          4.97\n",
       "33  30/04/2023          0,33          4,33\n",
       "34  31/05/2023          0.09          4.00\n",
       "35  30/06/2023          0.14          3.52\n",
       "36  31/07/2023          0,21          3,08\n",
       "37  31/08/2023          0,02          3,27\n",
       "38  30/09/2023          0,19          2,28\n",
       "39  31/10/2023          0,17          2,56\n",
       "40  30/11/2023          0,38          2,86\n",
       "41  31/12/2023          0,41          2,61\n",
       "42  31/01/2024          0,04          2,57\n",
       "43  29/02/2024          0,37          2,75\n",
       "44  31/03/2024          0,52          3,05\n",
       "45  30/04/2024          0,25          3,00\n",
       "46  31/05/2024          0,03          2,84\n",
       "47  30/06/2024          0,08          2,51\n",
       "48  31/07/2024          0,18          2,13\n",
       "49  31/08/2024          0,03          2,12>"
      ]
     },
     "execution_count": 167,
     "metadata": {},
     "output_type": "execute_result"
    }
   ],
   "source": [
    "import pandas as pd\n",
    "\n",
    "df = pd.DataFrame(temp, columns=('period','inflation_mom','inflation_yoy'))\n",
    "df.head"
   ]
  },
  {
   "cell_type": "markdown",
   "metadata": {},
   "source": [
    "### Data Cleansing\n",
    "\n",
    "(please change this markdown with your explanation of what you do for data wrangling)\n",
    "> After extracting data from a webpage using web scraping, it's a common practice to organize it into a structured format like a DataFrame. DataFrames, especially those from the pandas library, are highly useful for data analysis and manipulation because they allow us to easily clean, transform, and analyze data.\n",
    "\n",
    "> Data wrangling is the process of cleaning, transforming, and enriching the raw data into a more usable format. This might include handling missing values, removing duplicates, converting data types, normalizing data, and more.\n",
    "\n",
    "> By putting the extracted data into a DataFrame and performing data wrangling, we ensure the data is clean, structured, and ready for further analysis or visualization. This helps improve the quality of insights we can draw from the data."
   ]
  },
  {
   "cell_type": "code",
   "execution_count": 168,
   "metadata": {},
   "outputs": [
    {
     "data": {
      "text/plain": [
       "period           object\n",
       "inflation_mom    object\n",
       "inflation_yoy    object\n",
       "dtype: object"
      ]
     },
     "execution_count": 168,
     "metadata": {},
     "output_type": "execute_result"
    }
   ],
   "source": [
    "# Cek data types (sebelum di run, ini 'object' semua), karena run 2x setelah di covert,\n",
    "# maka data types nya sudah berubah.\n",
    "df.dtypes"
   ]
  },
  {
   "cell_type": "code",
   "execution_count": 169,
   "metadata": {},
   "outputs": [
    {
     "data": {
      "text/plain": [
       "period           datetime64[ns]\n",
       "inflation_mom           float64\n",
       "inflation_yoy           float64\n",
       "dtype: object"
      ]
     },
     "execution_count": 169,
     "metadata": {},
     "output_type": "execute_result"
    }
   ],
   "source": [
    "# converting data types\n",
    "df['inflation_mom'] = df['inflation_mom'].str.replace(\",\",\".\")\n",
    "df['inflation_mom'] = df['inflation_mom'].astype('float64')\n",
    "df['inflation_yoy'] = df['inflation_yoy'].str.replace(\",\",\".\")\n",
    "df['inflation_yoy'] = df['inflation_yoy'].astype('float64')\n",
    "df['period'] = df['period'].astype('datetime64[ns]')\n",
    "\n",
    "df.dtypes"
   ]
  },
  {
   "cell_type": "markdown",
   "metadata": {},
   "source": [
    "### Data Visualization\n",
    "\n",
    "(please change this markdown with your explanation of what you do for data wrangling)\n",
    "> Data wrangling is a critical step before creating any data visualization. It involves preparing and transforming raw data into a clean, structured, and usable format. This ensured that visualization are accurate, meaningful, and easy to understand.\n",
    "\n",
    "> Data wrangling for visualization involves preparing the to ensure it is clean, structured, and ready for analysis. This process enhances the quality and clarity of visualizations, leading to more meaningful insights."
   ]
  },
  {
   "cell_type": "code",
   "execution_count": 170,
   "metadata": {},
   "outputs": [],
   "source": [
    "#to make our plot behave like we want, so we need to set our index of our dataframe to our time column.\n",
    "df = df.set_index('period')"
   ]
  },
  {
   "cell_type": "code",
   "execution_count": 171,
   "metadata": {},
   "outputs": [
    {
     "data": {
      "text/plain": [
       "<Axes: xlabel='period'>"
      ]
     },
     "execution_count": 171,
     "metadata": {},
     "output_type": "execute_result"
    },
    {
     "data": {
      "image/png": "[encoded data removed]",
      "text/plain": [
       "<Figure size 640x480 with 1 Axes>"
      ]
     },
     "metadata": {},
     "output_type": "display_data"
    }
   ],
   "source": [
    "df.plot()"
   ]
  },
  {
   "cell_type": "code",
   "execution_count": 172,
   "metadata": {},
   "outputs": [
    {
     "data": {
      "text/plain": [
       "<Axes: title={'center': 'Inflation Rate MoM and YoY in Indonesia Year 2020-2024'}, xlabel='Periode'>"
      ]
     },
     "execution_count": 172,
     "metadata": {},
     "output_type": "execute_result"
    },
    {
     "data": {
      "image/png": "[encoded data removed]",
      "text/plain": [
       "<Figure size 640x480 with 1 Axes>"
      ]
     },
     "metadata": {},
     "output_type": "display_data"
    }
   ],
   "source": [
    "df.plot(title = 'Inflation Rate MoM and YoY in Indonesia Year 2020-2024',\n",
    "                     color = ['red', 'blue'],\n",
    "                     xlabel = 'Periode' )"
   ]
  },
  {
   "cell_type": "code",
   "execution_count": 173,
   "metadata": {},
   "outputs": [
    {
     "data": {
      "text/html": [
       "<div>\n",
       "<style scoped>\n",
       "    .dataframe tbody tr th:only-of-type {\n",
       "        vertical-align: middle;\n",
       "    }\n",
       "\n",
       "    .dataframe tbody tr th {\n",
       "        vertical-align: top;\n",
       "    }\n",
       "\n",
       "    .dataframe thead th {\n",
       "        text-align: right;\n",
       "    }\n",
       "</style>\n",
       "<table border=\"1\" class=\"dataframe\">\n",
       "  <thead>\n",
       "    <tr style=\"text-align: right;\">\n",
       "      <th></th>\n",
       "      <th>inflation_mom</th>\n",
       "      <th>inflation_yoy</th>\n",
       "    </tr>\n",
       "    <tr>\n",
       "      <th>period</th>\n",
       "      <th></th>\n",
       "      <th></th>\n",
       "    </tr>\n",
       "  </thead>\n",
       "  <tbody>\n",
       "    <tr>\n",
       "      <th>2020-07-31</th>\n",
       "      <td>0.04</td>\n",
       "      <td>1.54</td>\n",
       "    </tr>\n",
       "    <tr>\n",
       "      <th>2020-08-31</th>\n",
       "      <td>0.05</td>\n",
       "      <td>1.32</td>\n",
       "    </tr>\n",
       "    <tr>\n",
       "      <th>2020-09-30</th>\n",
       "      <td>0.05</td>\n",
       "      <td>1.42</td>\n",
       "    </tr>\n",
       "    <tr>\n",
       "      <th>2020-10-31</th>\n",
       "      <td>0.07</td>\n",
       "      <td>1.44</td>\n",
       "    </tr>\n",
       "    <tr>\n",
       "      <th>2020-11-30</th>\n",
       "      <td>0.28</td>\n",
       "      <td>1.59</td>\n",
       "    </tr>\n",
       "    <tr>\n",
       "      <th>2020-12-31</th>\n",
       "      <td>0.45</td>\n",
       "      <td>1.68</td>\n",
       "    </tr>\n",
       "    <tr>\n",
       "      <th>2021-01-31</th>\n",
       "      <td>0.26</td>\n",
       "      <td>1.55</td>\n",
       "    </tr>\n",
       "    <tr>\n",
       "      <th>2021-02-28</th>\n",
       "      <td>0.10</td>\n",
       "      <td>1.38</td>\n",
       "    </tr>\n",
       "    <tr>\n",
       "      <th>2021-03-31</th>\n",
       "      <td>0.08</td>\n",
       "      <td>1.37</td>\n",
       "    </tr>\n",
       "    <tr>\n",
       "      <th>2021-04-30</th>\n",
       "      <td>0.13</td>\n",
       "      <td>1.42</td>\n",
       "    </tr>\n",
       "    <tr>\n",
       "      <th>2021-05-31</th>\n",
       "      <td>0.32</td>\n",
       "      <td>1.68</td>\n",
       "    </tr>\n",
       "    <tr>\n",
       "      <th>2021-06-30</th>\n",
       "      <td>0.16</td>\n",
       "      <td>1.33</td>\n",
       "    </tr>\n",
       "    <tr>\n",
       "      <th>2021-07-31</th>\n",
       "      <td>0.08</td>\n",
       "      <td>1.52</td>\n",
       "    </tr>\n",
       "    <tr>\n",
       "      <th>2021-08-31</th>\n",
       "      <td>0.03</td>\n",
       "      <td>1.59</td>\n",
       "    </tr>\n",
       "    <tr>\n",
       "      <th>2021-09-30</th>\n",
       "      <td>0.04</td>\n",
       "      <td>1.60</td>\n",
       "    </tr>\n",
       "    <tr>\n",
       "      <th>2021-10-31</th>\n",
       "      <td>0.12</td>\n",
       "      <td>1.66</td>\n",
       "    </tr>\n",
       "    <tr>\n",
       "      <th>2021-11-30</th>\n",
       "      <td>0.37</td>\n",
       "      <td>1.75</td>\n",
       "    </tr>\n",
       "    <tr>\n",
       "      <th>2021-12-31</th>\n",
       "      <td>0.57</td>\n",
       "      <td>1.87</td>\n",
       "    </tr>\n",
       "    <tr>\n",
       "      <th>2022-01-31</th>\n",
       "      <td>0.56</td>\n",
       "      <td>2.18</td>\n",
       "    </tr>\n",
       "    <tr>\n",
       "      <th>2022-02-28</th>\n",
       "      <td>0.54</td>\n",
       "      <td>2.06</td>\n",
       "    </tr>\n",
       "    <tr>\n",
       "      <th>2022-03-31</th>\n",
       "      <td>0.66</td>\n",
       "      <td>2.64</td>\n",
       "    </tr>\n",
       "    <tr>\n",
       "      <th>2022-04-30</th>\n",
       "      <td>0.95</td>\n",
       "      <td>3.47</td>\n",
       "    </tr>\n",
       "    <tr>\n",
       "      <th>2022-05-31</th>\n",
       "      <td>0.40</td>\n",
       "      <td>3.55</td>\n",
       "    </tr>\n",
       "    <tr>\n",
       "      <th>2022-06-30</th>\n",
       "      <td>0.61</td>\n",
       "      <td>4.35</td>\n",
       "    </tr>\n",
       "    <tr>\n",
       "      <th>2022-07-31</th>\n",
       "      <td>0.64</td>\n",
       "      <td>4.94</td>\n",
       "    </tr>\n",
       "    <tr>\n",
       "      <th>2022-08-31</th>\n",
       "      <td>0.21</td>\n",
       "      <td>4.69</td>\n",
       "    </tr>\n",
       "    <tr>\n",
       "      <th>2022-09-30</th>\n",
       "      <td>1.17</td>\n",
       "      <td>5.95</td>\n",
       "    </tr>\n",
       "    <tr>\n",
       "      <th>2022-10-31</th>\n",
       "      <td>0.11</td>\n",
       "      <td>5.71</td>\n",
       "    </tr>\n",
       "    <tr>\n",
       "      <th>2022-11-30</th>\n",
       "      <td>0.09</td>\n",
       "      <td>5.42</td>\n",
       "    </tr>\n",
       "    <tr>\n",
       "      <th>2022-12-31</th>\n",
       "      <td>0.66</td>\n",
       "      <td>5.51</td>\n",
       "    </tr>\n",
       "    <tr>\n",
       "      <th>2023-01-31</th>\n",
       "      <td>0.34</td>\n",
       "      <td>5.28</td>\n",
       "    </tr>\n",
       "    <tr>\n",
       "      <th>2023-02-28</th>\n",
       "      <td>0.16</td>\n",
       "      <td>5.47</td>\n",
       "    </tr>\n",
       "    <tr>\n",
       "      <th>2023-03-31</th>\n",
       "      <td>0.18</td>\n",
       "      <td>4.97</td>\n",
       "    </tr>\n",
       "    <tr>\n",
       "      <th>2023-04-30</th>\n",
       "      <td>0.33</td>\n",
       "      <td>4.33</td>\n",
       "    </tr>\n",
       "    <tr>\n",
       "      <th>2023-05-31</th>\n",
       "      <td>0.09</td>\n",
       "      <td>4.00</td>\n",
       "    </tr>\n",
       "    <tr>\n",
       "      <th>2023-06-30</th>\n",
       "      <td>0.14</td>\n",
       "      <td>3.52</td>\n",
       "    </tr>\n",
       "    <tr>\n",
       "      <th>2023-07-31</th>\n",
       "      <td>0.21</td>\n",
       "      <td>3.08</td>\n",
       "    </tr>\n",
       "    <tr>\n",
       "      <th>2023-08-31</th>\n",
       "      <td>0.02</td>\n",
       "      <td>3.27</td>\n",
       "    </tr>\n",
       "    <tr>\n",
       "      <th>2023-09-30</th>\n",
       "      <td>0.19</td>\n",
       "      <td>2.28</td>\n",
       "    </tr>\n",
       "    <tr>\n",
       "      <th>2023-10-31</th>\n",
       "      <td>0.17</td>\n",
       "      <td>2.56</td>\n",
       "    </tr>\n",
       "    <tr>\n",
       "      <th>2023-11-30</th>\n",
       "      <td>0.38</td>\n",
       "      <td>2.86</td>\n",
       "    </tr>\n",
       "    <tr>\n",
       "      <th>2023-12-31</th>\n",
       "      <td>0.41</td>\n",
       "      <td>2.61</td>\n",
       "    </tr>\n",
       "    <tr>\n",
       "      <th>2024-01-31</th>\n",
       "      <td>0.04</td>\n",
       "      <td>2.57</td>\n",
       "    </tr>\n",
       "    <tr>\n",
       "      <th>2024-02-29</th>\n",
       "      <td>0.37</td>\n",
       "      <td>2.75</td>\n",
       "    </tr>\n",
       "    <tr>\n",
       "      <th>2024-03-31</th>\n",
       "      <td>0.52</td>\n",
       "      <td>3.05</td>\n",
       "    </tr>\n",
       "    <tr>\n",
       "      <th>2024-04-30</th>\n",
       "      <td>0.25</td>\n",
       "      <td>3.00</td>\n",
       "    </tr>\n",
       "    <tr>\n",
       "      <th>2024-05-31</th>\n",
       "      <td>0.03</td>\n",
       "      <td>2.84</td>\n",
       "    </tr>\n",
       "    <tr>\n",
       "      <th>2024-06-30</th>\n",
       "      <td>0.08</td>\n",
       "      <td>2.51</td>\n",
       "    </tr>\n",
       "    <tr>\n",
       "      <th>2024-07-31</th>\n",
       "      <td>0.18</td>\n",
       "      <td>2.13</td>\n",
       "    </tr>\n",
       "    <tr>\n",
       "      <th>2024-08-31</th>\n",
       "      <td>0.03</td>\n",
       "      <td>2.12</td>\n",
       "    </tr>\n",
       "  </tbody>\n",
       "</table>\n",
       "</div>"
      ],
      "text/plain": [
       "            inflation_mom  inflation_yoy\n",
       "period                                  \n",
       "2020-07-31           0.04           1.54\n",
       "2020-08-31           0.05           1.32\n",
       "2020-09-30           0.05           1.42\n",
       "2020-10-31           0.07           1.44\n",
       "2020-11-30           0.28           1.59\n",
       "2020-12-31           0.45           1.68\n",
       "2021-01-31           0.26           1.55\n",
       "2021-02-28           0.10           1.38\n",
       "2021-03-31           0.08           1.37\n",
       "2021-04-30           0.13           1.42\n",
       "2021-05-31           0.32           1.68\n",
       "2021-06-30           0.16           1.33\n",
       "2021-07-31           0.08           1.52\n",
       "2021-08-31           0.03           1.59\n",
       "2021-09-30           0.04           1.60\n",
       "2021-10-31           0.12           1.66\n",
       "2021-11-30           0.37           1.75\n",
       "2021-12-31           0.57           1.87\n",
       "2022-01-31           0.56           2.18\n",
       "2022-02-28           0.54           2.06\n",
       "2022-03-31           0.66           2.64\n",
       "2022-04-30           0.95           3.47\n",
       "2022-05-31           0.40           3.55\n",
       "2022-06-30           0.61           4.35\n",
       "2022-07-31           0.64           4.94\n",
       "2022-08-31           0.21           4.69\n",
       "2022-09-30           1.17           5.95\n",
       "2022-10-31           0.11           5.71\n",
       "2022-11-30           0.09           5.42\n",
       "2022-12-31           0.66           5.51\n",
       "2023-01-31           0.34           5.28\n",
       "2023-02-28           0.16           5.47\n",
       "2023-03-31           0.18           4.97\n",
       "2023-04-30           0.33           4.33\n",
       "2023-05-31           0.09           4.00\n",
       "2023-06-30           0.14           3.52\n",
       "2023-07-31           0.21           3.08\n",
       "2023-08-31           0.02           3.27\n",
       "2023-09-30           0.19           2.28\n",
       "2023-10-31           0.17           2.56\n",
       "2023-11-30           0.38           2.86\n",
       "2023-12-31           0.41           2.61\n",
       "2024-01-31           0.04           2.57\n",
       "2024-02-29           0.37           2.75\n",
       "2024-03-31           0.52           3.05\n",
       "2024-04-30           0.25           3.00\n",
       "2024-05-31           0.03           2.84\n",
       "2024-06-30           0.08           2.51\n",
       "2024-07-31           0.18           2.13\n",
       "2024-08-31           0.03           2.12"
      ]
     },
     "execution_count": 173,
     "metadata": {},
     "output_type": "execute_result"
    }
   ],
   "source": [
    "df"
   ]
  },
  {
   "cell_type": "code",
   "execution_count": 174,
   "metadata": {},
   "outputs": [
    {
     "name": "stderr",
     "output_type": "stream",
     "text": [
      "/var/folders/84/3kp0c9kd2gzbl68lyvd84w780000gn/T/ipykernel_4138/1105120552.py:1: UserWarning: Pandas doesn't allow columns to be created via a new attribute name - see https://pandas.pydata.org/pandas-docs/stable/indexing.html#attribute-access\n",
      "  df.PeriodeKolom = df.reset_index() # Mengubah kolom Period dari index menjadi sebuah kolom\n"
     ]
    },
    {
     "data": {
      "text/html": [
       "<div>\n",
       "<style scoped>\n",
       "    .dataframe tbody tr th:only-of-type {\n",
       "        vertical-align: middle;\n",
       "    }\n",
       "\n",
       "    .dataframe tbody tr th {\n",
       "        vertical-align: top;\n",
       "    }\n",
       "\n",
       "    .dataframe thead th {\n",
       "        text-align: right;\n",
       "    }\n",
       "</style>\n",
       "<table border=\"1\" class=\"dataframe\">\n",
       "  <thead>\n",
       "    <tr style=\"text-align: right;\">\n",
       "      <th></th>\n",
       "      <th>period</th>\n",
       "      <th>inflation_mom</th>\n",
       "      <th>inflation_yoy</th>\n",
       "    </tr>\n",
       "  </thead>\n",
       "  <tbody>\n",
       "    <tr>\n",
       "      <th>0</th>\n",
       "      <td>2020-07-31</td>\n",
       "      <td>0.04</td>\n",
       "      <td>1.54</td>\n",
       "    </tr>\n",
       "    <tr>\n",
       "      <th>1</th>\n",
       "      <td>2020-08-31</td>\n",
       "      <td>0.05</td>\n",
       "      <td>1.32</td>\n",
       "    </tr>\n",
       "    <tr>\n",
       "      <th>2</th>\n",
       "      <td>2020-09-30</td>\n",
       "      <td>0.05</td>\n",
       "      <td>1.42</td>\n",
       "    </tr>\n",
       "    <tr>\n",
       "      <th>3</th>\n",
       "      <td>2020-10-31</td>\n",
       "      <td>0.07</td>\n",
       "      <td>1.44</td>\n",
       "    </tr>\n",
       "    <tr>\n",
       "      <th>4</th>\n",
       "      <td>2020-11-30</td>\n",
       "      <td>0.28</td>\n",
       "      <td>1.59</td>\n",
       "    </tr>\n",
       "    <tr>\n",
       "      <th>5</th>\n",
       "      <td>2020-12-31</td>\n",
       "      <td>0.45</td>\n",
       "      <td>1.68</td>\n",
       "    </tr>\n",
       "    <tr>\n",
       "      <th>6</th>\n",
       "      <td>2021-01-31</td>\n",
       "      <td>0.26</td>\n",
       "      <td>1.55</td>\n",
       "    </tr>\n",
       "    <tr>\n",
       "      <th>7</th>\n",
       "      <td>2021-02-28</td>\n",
       "      <td>0.10</td>\n",
       "      <td>1.38</td>\n",
       "    </tr>\n",
       "    <tr>\n",
       "      <th>8</th>\n",
       "      <td>2021-03-31</td>\n",
       "      <td>0.08</td>\n",
       "      <td>1.37</td>\n",
       "    </tr>\n",
       "    <tr>\n",
       "      <th>9</th>\n",
       "      <td>2021-04-30</td>\n",
       "      <td>0.13</td>\n",
       "      <td>1.42</td>\n",
       "    </tr>\n",
       "    <tr>\n",
       "      <th>10</th>\n",
       "      <td>2021-05-31</td>\n",
       "      <td>0.32</td>\n",
       "      <td>1.68</td>\n",
       "    </tr>\n",
       "    <tr>\n",
       "      <th>11</th>\n",
       "      <td>2021-06-30</td>\n",
       "      <td>0.16</td>\n",
       "      <td>1.33</td>\n",
       "    </tr>\n",
       "    <tr>\n",
       "      <th>12</th>\n",
       "      <td>2021-07-31</td>\n",
       "      <td>0.08</td>\n",
       "      <td>1.52</td>\n",
       "    </tr>\n",
       "    <tr>\n",
       "      <th>13</th>\n",
       "      <td>2021-08-31</td>\n",
       "      <td>0.03</td>\n",
       "      <td>1.59</td>\n",
       "    </tr>\n",
       "    <tr>\n",
       "      <th>14</th>\n",
       "      <td>2021-09-30</td>\n",
       "      <td>0.04</td>\n",
       "      <td>1.60</td>\n",
       "    </tr>\n",
       "    <tr>\n",
       "      <th>15</th>\n",
       "      <td>2021-10-31</td>\n",
       "      <td>0.12</td>\n",
       "      <td>1.66</td>\n",
       "    </tr>\n",
       "    <tr>\n",
       "      <th>16</th>\n",
       "      <td>2021-11-30</td>\n",
       "      <td>0.37</td>\n",
       "      <td>1.75</td>\n",
       "    </tr>\n",
       "    <tr>\n",
       "      <th>17</th>\n",
       "      <td>2021-12-31</td>\n",
       "      <td>0.57</td>\n",
       "      <td>1.87</td>\n",
       "    </tr>\n",
       "    <tr>\n",
       "      <th>18</th>\n",
       "      <td>2022-01-31</td>\n",
       "      <td>0.56</td>\n",
       "      <td>2.18</td>\n",
       "    </tr>\n",
       "    <tr>\n",
       "      <th>19</th>\n",
       "      <td>2022-02-28</td>\n",
       "      <td>0.54</td>\n",
       "      <td>2.06</td>\n",
       "    </tr>\n",
       "    <tr>\n",
       "      <th>20</th>\n",
       "      <td>2022-03-31</td>\n",
       "      <td>0.66</td>\n",
       "      <td>2.64</td>\n",
       "    </tr>\n",
       "    <tr>\n",
       "      <th>21</th>\n",
       "      <td>2022-04-30</td>\n",
       "      <td>0.95</td>\n",
       "      <td>3.47</td>\n",
       "    </tr>\n",
       "    <tr>\n",
       "      <th>22</th>\n",
       "      <td>2022-05-31</td>\n",
       "      <td>0.40</td>\n",
       "      <td>3.55</td>\n",
       "    </tr>\n",
       "    <tr>\n",
       "      <th>23</th>\n",
       "      <td>2022-06-30</td>\n",
       "      <td>0.61</td>\n",
       "      <td>4.35</td>\n",
       "    </tr>\n",
       "    <tr>\n",
       "      <th>24</th>\n",
       "      <td>2022-07-31</td>\n",
       "      <td>0.64</td>\n",
       "      <td>4.94</td>\n",
       "    </tr>\n",
       "    <tr>\n",
       "      <th>25</th>\n",
       "      <td>2022-08-31</td>\n",
       "      <td>0.21</td>\n",
       "      <td>4.69</td>\n",
       "    </tr>\n",
       "    <tr>\n",
       "      <th>26</th>\n",
       "      <td>2022-09-30</td>\n",
       "      <td>1.17</td>\n",
       "      <td>5.95</td>\n",
       "    </tr>\n",
       "    <tr>\n",
       "      <th>27</th>\n",
       "      <td>2022-10-31</td>\n",
       "      <td>0.11</td>\n",
       "      <td>5.71</td>\n",
       "    </tr>\n",
       "    <tr>\n",
       "      <th>28</th>\n",
       "      <td>2022-11-30</td>\n",
       "      <td>0.09</td>\n",
       "      <td>5.42</td>\n",
       "    </tr>\n",
       "    <tr>\n",
       "      <th>29</th>\n",
       "      <td>2022-12-31</td>\n",
       "      <td>0.66</td>\n",
       "      <td>5.51</td>\n",
       "    </tr>\n",
       "    <tr>\n",
       "      <th>30</th>\n",
       "      <td>2023-01-31</td>\n",
       "      <td>0.34</td>\n",
       "      <td>5.28</td>\n",
       "    </tr>\n",
       "    <tr>\n",
       "      <th>31</th>\n",
       "      <td>2023-02-28</td>\n",
       "      <td>0.16</td>\n",
       "      <td>5.47</td>\n",
       "    </tr>\n",
       "    <tr>\n",
       "      <th>32</th>\n",
       "      <td>2023-03-31</td>\n",
       "      <td>0.18</td>\n",
       "      <td>4.97</td>\n",
       "    </tr>\n",
       "    <tr>\n",
       "      <th>33</th>\n",
       "      <td>2023-04-30</td>\n",
       "      <td>0.33</td>\n",
       "      <td>4.33</td>\n",
       "    </tr>\n",
       "    <tr>\n",
       "      <th>34</th>\n",
       "      <td>2023-05-31</td>\n",
       "      <td>0.09</td>\n",
       "      <td>4.00</td>\n",
       "    </tr>\n",
       "    <tr>\n",
       "      <th>35</th>\n",
       "      <td>2023-06-30</td>\n",
       "      <td>0.14</td>\n",
       "      <td>3.52</td>\n",
       "    </tr>\n",
       "    <tr>\n",
       "      <th>36</th>\n",
       "      <td>2023-07-31</td>\n",
       "      <td>0.21</td>\n",
       "      <td>3.08</td>\n",
       "    </tr>\n",
       "    <tr>\n",
       "      <th>37</th>\n",
       "      <td>2023-08-31</td>\n",
       "      <td>0.02</td>\n",
       "      <td>3.27</td>\n",
       "    </tr>\n",
       "    <tr>\n",
       "      <th>38</th>\n",
       "      <td>2023-09-30</td>\n",
       "      <td>0.19</td>\n",
       "      <td>2.28</td>\n",
       "    </tr>\n",
       "    <tr>\n",
       "      <th>39</th>\n",
       "      <td>2023-10-31</td>\n",
       "      <td>0.17</td>\n",
       "      <td>2.56</td>\n",
       "    </tr>\n",
       "    <tr>\n",
       "      <th>40</th>\n",
       "      <td>2023-11-30</td>\n",
       "      <td>0.38</td>\n",
       "      <td>2.86</td>\n",
       "    </tr>\n",
       "    <tr>\n",
       "      <th>41</th>\n",
       "      <td>2023-12-31</td>\n",
       "      <td>0.41</td>\n",
       "      <td>2.61</td>\n",
       "    </tr>\n",
       "    <tr>\n",
       "      <th>42</th>\n",
       "      <td>2024-01-31</td>\n",
       "      <td>0.04</td>\n",
       "      <td>2.57</td>\n",
       "    </tr>\n",
       "    <tr>\n",
       "      <th>43</th>\n",
       "      <td>2024-02-29</td>\n",
       "      <td>0.37</td>\n",
       "      <td>2.75</td>\n",
       "    </tr>\n",
       "    <tr>\n",
       "      <th>44</th>\n",
       "      <td>2024-03-31</td>\n",
       "      <td>0.52</td>\n",
       "      <td>3.05</td>\n",
       "    </tr>\n",
       "    <tr>\n",
       "      <th>45</th>\n",
       "      <td>2024-04-30</td>\n",
       "      <td>0.25</td>\n",
       "      <td>3.00</td>\n",
       "    </tr>\n",
       "    <tr>\n",
       "      <th>46</th>\n",
       "      <td>2024-05-31</td>\n",
       "      <td>0.03</td>\n",
       "      <td>2.84</td>\n",
       "    </tr>\n",
       "    <tr>\n",
       "      <th>47</th>\n",
       "      <td>2024-06-30</td>\n",
       "      <td>0.08</td>\n",
       "      <td>2.51</td>\n",
       "    </tr>\n",
       "    <tr>\n",
       "      <th>48</th>\n",
       "      <td>2024-07-31</td>\n",
       "      <td>0.18</td>\n",
       "      <td>2.13</td>\n",
       "    </tr>\n",
       "    <tr>\n",
       "      <th>49</th>\n",
       "      <td>2024-08-31</td>\n",
       "      <td>0.03</td>\n",
       "      <td>2.12</td>\n",
       "    </tr>\n",
       "  </tbody>\n",
       "</table>\n",
       "</div>"
      ],
      "text/plain": [
       "       period  inflation_mom  inflation_yoy\n",
       "0  2020-07-31           0.04           1.54\n",
       "1  2020-08-31           0.05           1.32\n",
       "2  2020-09-30           0.05           1.42\n",
       "3  2020-10-31           0.07           1.44\n",
       "4  2020-11-30           0.28           1.59\n",
       "5  2020-12-31           0.45           1.68\n",
       "6  2021-01-31           0.26           1.55\n",
       "7  2021-02-28           0.10           1.38\n",
       "8  2021-03-31           0.08           1.37\n",
       "9  2021-04-30           0.13           1.42\n",
       "10 2021-05-31           0.32           1.68\n",
       "11 2021-06-30           0.16           1.33\n",
       "12 2021-07-31           0.08           1.52\n",
       "13 2021-08-31           0.03           1.59\n",
       "14 2021-09-30           0.04           1.60\n",
       "15 2021-10-31           0.12           1.66\n",
       "16 2021-11-30           0.37           1.75\n",
       "17 2021-12-31           0.57           1.87\n",
       "18 2022-01-31           0.56           2.18\n",
       "19 2022-02-28           0.54           2.06\n",
       "20 2022-03-31           0.66           2.64\n",
       "21 2022-04-30           0.95           3.47\n",
       "22 2022-05-31           0.40           3.55\n",
       "23 2022-06-30           0.61           4.35\n",
       "24 2022-07-31           0.64           4.94\n",
       "25 2022-08-31           0.21           4.69\n",
       "26 2022-09-30           1.17           5.95\n",
       "27 2022-10-31           0.11           5.71\n",
       "28 2022-11-30           0.09           5.42\n",
       "29 2022-12-31           0.66           5.51\n",
       "30 2023-01-31           0.34           5.28\n",
       "31 2023-02-28           0.16           5.47\n",
       "32 2023-03-31           0.18           4.97\n",
       "33 2023-04-30           0.33           4.33\n",
       "34 2023-05-31           0.09           4.00\n",
       "35 2023-06-30           0.14           3.52\n",
       "36 2023-07-31           0.21           3.08\n",
       "37 2023-08-31           0.02           3.27\n",
       "38 2023-09-30           0.19           2.28\n",
       "39 2023-10-31           0.17           2.56\n",
       "40 2023-11-30           0.38           2.86\n",
       "41 2023-12-31           0.41           2.61\n",
       "42 2024-01-31           0.04           2.57\n",
       "43 2024-02-29           0.37           2.75\n",
       "44 2024-03-31           0.52           3.05\n",
       "45 2024-04-30           0.25           3.00\n",
       "46 2024-05-31           0.03           2.84\n",
       "47 2024-06-30           0.08           2.51\n",
       "48 2024-07-31           0.18           2.13\n",
       "49 2024-08-31           0.03           2.12"
      ]
     },
     "execution_count": 174,
     "metadata": {},
     "output_type": "execute_result"
    }
   ],
   "source": [
    "df.PeriodeKolom = df.reset_index() # Mengubah kolom Period dari index menjadi sebuah kolom\n",
    "df.PeriodeKolom"
   ]
  },
  {
   "cell_type": "code",
   "execution_count": 175,
   "metadata": {},
   "outputs": [
    {
     "data": {
      "text/plain": [
       "0     2020\n",
       "1     2020\n",
       "2     2020\n",
       "3     2020\n",
       "4     2020\n",
       "5     2020\n",
       "6     2021\n",
       "7     2021\n",
       "8     2021\n",
       "9     2021\n",
       "10    2021\n",
       "11    2021\n",
       "12    2021\n",
       "13    2021\n",
       "14    2021\n",
       "15    2021\n",
       "16    2021\n",
       "17    2021\n",
       "18    2022\n",
       "19    2022\n",
       "20    2022\n",
       "21    2022\n",
       "22    2022\n",
       "23    2022\n",
       "24    2022\n",
       "25    2022\n",
       "26    2022\n",
       "27    2022\n",
       "28    2022\n",
       "29    2022\n",
       "30    2023\n",
       "31    2023\n",
       "32    2023\n",
       "33    2023\n",
       "34    2023\n",
       "35    2023\n",
       "36    2023\n",
       "37    2023\n",
       "38    2023\n",
       "39    2023\n",
       "40    2023\n",
       "41    2023\n",
       "42    2024\n",
       "43    2024\n",
       "44    2024\n",
       "45    2024\n",
       "46    2024\n",
       "47    2024\n",
       "48    2024\n",
       "49    2024\n",
       "Name: period, dtype: period[Y-DEC]"
      ]
     },
     "execution_count": 175,
     "metadata": {},
     "output_type": "execute_result"
    }
   ],
   "source": [
    "df.PeriodeKolom['period'].dt.to_period('Y') # Mengekstrak komponen Year dari kolom Date"
   ]
  },
  {
   "cell_type": "code",
   "execution_count": 176,
   "metadata": {},
   "outputs": [
    {
     "data": {
      "text/html": [
       "<div>\n",
       "<style scoped>\n",
       "    .dataframe tbody tr th:only-of-type {\n",
       "        vertical-align: middle;\n",
       "    }\n",
       "\n",
       "    .dataframe tbody tr th {\n",
       "        vertical-align: top;\n",
       "    }\n",
       "\n",
       "    .dataframe thead th {\n",
       "        text-align: right;\n",
       "    }\n",
       "</style>\n",
       "<table border=\"1\" class=\"dataframe\">\n",
       "  <thead>\n",
       "    <tr style=\"text-align: right;\">\n",
       "      <th></th>\n",
       "      <th>period</th>\n",
       "      <th>inflation_mom</th>\n",
       "      <th>inflation_yoy</th>\n",
       "      <th>Year</th>\n",
       "    </tr>\n",
       "  </thead>\n",
       "  <tbody>\n",
       "    <tr>\n",
       "      <th>0</th>\n",
       "      <td>2020-07-31</td>\n",
       "      <td>0.04</td>\n",
       "      <td>1.54</td>\n",
       "      <td>2020</td>\n",
       "    </tr>\n",
       "    <tr>\n",
       "      <th>1</th>\n",
       "      <td>2020-08-31</td>\n",
       "      <td>0.05</td>\n",
       "      <td>1.32</td>\n",
       "      <td>2020</td>\n",
       "    </tr>\n",
       "    <tr>\n",
       "      <th>2</th>\n",
       "      <td>2020-09-30</td>\n",
       "      <td>0.05</td>\n",
       "      <td>1.42</td>\n",
       "      <td>2020</td>\n",
       "    </tr>\n",
       "    <tr>\n",
       "      <th>3</th>\n",
       "      <td>2020-10-31</td>\n",
       "      <td>0.07</td>\n",
       "      <td>1.44</td>\n",
       "      <td>2020</td>\n",
       "    </tr>\n",
       "    <tr>\n",
       "      <th>4</th>\n",
       "      <td>2020-11-30</td>\n",
       "      <td>0.28</td>\n",
       "      <td>1.59</td>\n",
       "      <td>2020</td>\n",
       "    </tr>\n",
       "  </tbody>\n",
       "</table>\n",
       "</div>"
      ],
      "text/plain": [
       "      period  inflation_mom  inflation_yoy  Year\n",
       "0 2020-07-31           0.04           1.54  2020\n",
       "1 2020-08-31           0.05           1.32  2020\n",
       "2 2020-09-30           0.05           1.42  2020\n",
       "3 2020-10-31           0.07           1.44  2020\n",
       "4 2020-11-30           0.28           1.59  2020"
      ]
     },
     "execution_count": 176,
     "metadata": {},
     "output_type": "execute_result"
    }
   ],
   "source": [
    "# buat kolom baru, Year, yang menunjukkan Year dari waktu yang diberikan \n",
    "df.PeriodeKolom['Year'] = df.PeriodeKolom['period'].dt.to_period('Y')\n",
    "df.PeriodeKolom.head()"
   ]
  },
  {
   "cell_type": "code",
   "execution_count": 177,
   "metadata": {},
   "outputs": [
    {
     "data": {
      "text/plain": [
       "inflation_mom       Axes(0.125,0.11;0.352273x0.77)\n",
       "inflation_yoy    Axes(0.547727,0.11;0.352273x0.77)\n",
       "dtype: object"
      ]
     },
     "execution_count": 177,
     "metadata": {},
     "output_type": "execute_result"
    },
    {
     "data": {
      "image/png": "[encoded data removed]",
      "text/plain": [
       "<Figure size 640x480 with 2 Axes>"
      ]
     },
     "metadata": {},
     "output_type": "display_data"
    }
   ],
   "source": [
    "# visualisasi\n",
    "df.PeriodeKolom.plot.box(by='Year')"
   ]
  },
  {
   "cell_type": "code",
   "execution_count": 178,
   "metadata": {},
   "outputs": [
    {
     "data": {
      "text/html": [
       "<div>\n",
       "<style scoped>\n",
       "    .dataframe tbody tr th:only-of-type {\n",
       "        vertical-align: middle;\n",
       "    }\n",
       "\n",
       "    .dataframe tbody tr th {\n",
       "        vertical-align: top;\n",
       "    }\n",
       "\n",
       "    .dataframe thead th {\n",
       "        text-align: right;\n",
       "    }\n",
       "</style>\n",
       "<table border=\"1\" class=\"dataframe\">\n",
       "  <thead>\n",
       "    <tr style=\"text-align: right;\">\n",
       "      <th></th>\n",
       "      <th>inflation_mom</th>\n",
       "      <th>inflation_yoy</th>\n",
       "    </tr>\n",
       "  </thead>\n",
       "  <tbody>\n",
       "    <tr>\n",
       "      <th>count</th>\n",
       "      <td>50.000000</td>\n",
       "      <td>50.000000</td>\n",
       "    </tr>\n",
       "    <tr>\n",
       "      <th>mean</th>\n",
       "      <td>0.278400</td>\n",
       "      <td>2.867600</td>\n",
       "    </tr>\n",
       "    <tr>\n",
       "      <th>std</th>\n",
       "      <td>0.252703</td>\n",
       "      <td>1.414262</td>\n",
       "    </tr>\n",
       "    <tr>\n",
       "      <th>min</th>\n",
       "      <td>0.020000</td>\n",
       "      <td>1.320000</td>\n",
       "    </tr>\n",
       "    <tr>\n",
       "      <th>25%</th>\n",
       "      <td>0.082500</td>\n",
       "      <td>1.615000</td>\n",
       "    </tr>\n",
       "    <tr>\n",
       "      <th>50%</th>\n",
       "      <td>0.185000</td>\n",
       "      <td>2.565000</td>\n",
       "    </tr>\n",
       "    <tr>\n",
       "      <th>75%</th>\n",
       "      <td>0.395000</td>\n",
       "      <td>3.542500</td>\n",
       "    </tr>\n",
       "    <tr>\n",
       "      <th>max</th>\n",
       "      <td>1.170000</td>\n",
       "      <td>5.950000</td>\n",
       "    </tr>\n",
       "  </tbody>\n",
       "</table>\n",
       "</div>"
      ],
      "text/plain": [
       "       inflation_mom  inflation_yoy\n",
       "count      50.000000      50.000000\n",
       "mean        0.278400       2.867600\n",
       "std         0.252703       1.414262\n",
       "min         0.020000       1.320000\n",
       "25%         0.082500       1.615000\n",
       "50%         0.185000       2.565000\n",
       "75%         0.395000       3.542500\n",
       "max         1.170000       5.950000"
      ]
     },
     "execution_count": 178,
     "metadata": {},
     "output_type": "execute_result"
    }
   ],
   "source": [
    "df.describe()"
   ]
  },
  {
   "cell_type": "code",
   "execution_count": 181,
   "metadata": {},
   "outputs": [
    {
     "name": "stdout",
     "output_type": "stream",
     "text": [
      "        average_mom  max_mom  min_mom  median_mom\n",
      "period                                           \n",
      "2020       0.156667     0.45     0.04       0.060\n",
      "2021       0.188333     0.57     0.03       0.125\n",
      "2022       0.550000     1.17     0.09       0.585\n",
      "2023       0.218333     0.41     0.02       0.185\n",
      "2024       0.187500     0.52     0.03       0.130\n"
     ]
    }
   ],
   "source": [
    "#Group by year and calculate summary statistics\n",
    "\n",
    "df_grouped = df.groupby(df.index.year).agg(\n",
    "    average_mom=('inflation_mom', 'mean'),\n",
    "    max_mom=('inflation_mom', 'max'),\n",
    "    min_mom=('inflation_mom', 'min'),\n",
    "    median_mom=('inflation_mom', 'median')\n",
    ")\n",
    "\n",
    "# Display the table\n",
    "print(df_grouped)"
   ]
  },
  {
   "cell_type": "code",
   "execution_count": 105,
   "metadata": {},
   "outputs": [
    {
     "data": {
      "text/html": [
       "<div>\n",
       "<style scoped>\n",
       "    .dataframe tbody tr th:only-of-type {\n",
       "        vertical-align: middle;\n",
       "    }\n",
       "\n",
       "    .dataframe tbody tr th {\n",
       "        vertical-align: top;\n",
       "    }\n",
       "\n",
       "    .dataframe thead th {\n",
       "        text-align: right;\n",
       "    }\n",
       "</style>\n",
       "<table border=\"1\" class=\"dataframe\">\n",
       "  <thead>\n",
       "    <tr style=\"text-align: right;\">\n",
       "      <th></th>\n",
       "      <th>inflation_mom</th>\n",
       "      <th>inflation_yoy</th>\n",
       "    </tr>\n",
       "  </thead>\n",
       "  <tbody>\n",
       "    <tr>\n",
       "      <th>count</th>\n",
       "      <td>12.000000</td>\n",
       "      <td>12.000000</td>\n",
       "    </tr>\n",
       "    <tr>\n",
       "      <th>mean</th>\n",
       "      <td>0.218333</td>\n",
       "      <td>3.685833</td>\n",
       "    </tr>\n",
       "    <tr>\n",
       "      <th>std</th>\n",
       "      <td>0.120667</td>\n",
       "      <td>1.109385</td>\n",
       "    </tr>\n",
       "    <tr>\n",
       "      <th>min</th>\n",
       "      <td>0.020000</td>\n",
       "      <td>2.280000</td>\n",
       "    </tr>\n",
       "    <tr>\n",
       "      <th>25%</th>\n",
       "      <td>0.155000</td>\n",
       "      <td>2.797500</td>\n",
       "    </tr>\n",
       "    <tr>\n",
       "      <th>50%</th>\n",
       "      <td>0.185000</td>\n",
       "      <td>3.395000</td>\n",
       "    </tr>\n",
       "    <tr>\n",
       "      <th>75%</th>\n",
       "      <td>0.332500</td>\n",
       "      <td>4.490000</td>\n",
       "    </tr>\n",
       "    <tr>\n",
       "      <th>max</th>\n",
       "      <td>0.410000</td>\n",
       "      <td>5.470000</td>\n",
       "    </tr>\n",
       "  </tbody>\n",
       "</table>\n",
       "</div>"
      ],
      "text/plain": [
       "       inflation_mom  inflation_yoy\n",
       "count      12.000000      12.000000\n",
       "mean        0.218333       3.685833\n",
       "std         0.120667       1.109385\n",
       "min         0.020000       2.280000\n",
       "25%         0.155000       2.797500\n",
       "50%         0.185000       3.395000\n",
       "75%         0.332500       4.490000\n",
       "max         0.410000       5.470000"
      ]
     },
     "execution_count": 105,
     "metadata": {},
     "output_type": "execute_result"
    }
   ],
   "source": [
    "df_2023= df.loc['2023-01-01':'2023-12-31'].copy()\n",
    "df_2023.describe()"
   ]
  },
  {
   "cell_type": "code",
   "execution_count": 89,
   "metadata": {},
   "outputs": [],
   "source": [
    "import pandas as pd\n",
    "import matplotlib.pyplot as plt"
   ]
  },
  {
   "cell_type": "code",
   "execution_count": 88,
   "metadata": {},
   "outputs": [],
   "source": [
    "# Filter data by year\n",
    "df_2020 = df.loc['2020']\n",
    "df_2021 = df.loc['2021']\n",
    "df_2022 = df.loc['2022']\n",
    "df_2023 = df.loc['2023']\n",
    "df_2024 = df.loc['2024']"
   ]
  },
  {
   "cell_type": "code",
   "execution_count": 81,
   "metadata": {},
   "outputs": [],
   "source": [
    "Inflation_Rate = {\n",
    "    'df_2020': df_2020,\n",
    "    'df_2021': df_2021,\n",
    "    'df_2022': df_2022,\n",
    "    'df_2023': df_2023,\n",
    "    'df_2024': df_2024\n",
    "}"
   ]
  },
  {
   "cell_type": "code",
   "execution_count": 91,
   "metadata": {},
   "outputs": [
    {
     "data": {
      "text/plain": [
       "<function matplotlib.pyplot.show(close=None, block=None)>"
      ]
     },
     "execution_count": 91,
     "metadata": {},
     "output_type": "execute_result"
    },
    {
     "data": {
      "image/png": "[encoded data removed]",
      "text/plain": [
       "<Figure size 1400x700 with 1 Axes>"
      ]
     },
     "metadata": {},
     "output_type": "display_data"
    }
   ],
   "source": [
    "# Plotting\n",
    "plt.figure(figsize=(14, 7))\n",
    "\n",
    "for year, data in Inflation_Rate.items():\n",
    "    plt.plot(data.index, data['inflation_mom'], marker='o', linestyle='-', label=f'{year}')\n",
    "\n",
    "plt.title('Month-over-Month Inflation Rate (2020-2024)')\n",
    "plt.xlabel('Date')\n",
    "plt.ylabel('Inflation Rate (%)')\n",
    "plt.legend(title='Year')\n",
    "plt.grid(True)\n",
    "plt.show"
   ]
  },
  {
   "cell_type": "code",
   "execution_count": 104,
   "metadata": {},
   "outputs": [
    {
     "data": {
      "text/html": [
       "<div>\n",
       "<style scoped>\n",
       "    .dataframe tbody tr th:only-of-type {\n",
       "        vertical-align: middle;\n",
       "    }\n",
       "\n",
       "    .dataframe tbody tr th {\n",
       "        vertical-align: top;\n",
       "    }\n",
       "\n",
       "    .dataframe thead th {\n",
       "        text-align: right;\n",
       "    }\n",
       "</style>\n",
       "<table border=\"1\" class=\"dataframe\">\n",
       "  <thead>\n",
       "    <tr style=\"text-align: right;\">\n",
       "      <th></th>\n",
       "      <th>inflation_mom</th>\n",
       "      <th>inflation_yoy</th>\n",
       "    </tr>\n",
       "  </thead>\n",
       "  <tbody>\n",
       "    <tr>\n",
       "      <th>count</th>\n",
       "      <td>12.00000</td>\n",
       "      <td>12.000000</td>\n",
       "    </tr>\n",
       "    <tr>\n",
       "      <th>mean</th>\n",
       "      <td>0.55000</td>\n",
       "      <td>4.205833</td>\n",
       "    </tr>\n",
       "    <tr>\n",
       "      <th>std</th>\n",
       "      <td>0.31963</td>\n",
       "      <td>1.394988</td>\n",
       "    </tr>\n",
       "    <tr>\n",
       "      <th>min</th>\n",
       "      <td>0.09000</td>\n",
       "      <td>2.060000</td>\n",
       "    </tr>\n",
       "    <tr>\n",
       "      <th>25%</th>\n",
       "      <td>0.35250</td>\n",
       "      <td>3.262500</td>\n",
       "    </tr>\n",
       "    <tr>\n",
       "      <th>50%</th>\n",
       "      <td>0.58500</td>\n",
       "      <td>4.520000</td>\n",
       "    </tr>\n",
       "    <tr>\n",
       "      <th>75%</th>\n",
       "      <td>0.66000</td>\n",
       "      <td>5.442500</td>\n",
       "    </tr>\n",
       "    <tr>\n",
       "      <th>max</th>\n",
       "      <td>1.17000</td>\n",
       "      <td>5.950000</td>\n",
       "    </tr>\n",
       "  </tbody>\n",
       "</table>\n",
       "</div>"
      ],
      "text/plain": [
       "       inflation_mom  inflation_yoy\n",
       "count       12.00000      12.000000\n",
       "mean         0.55000       4.205833\n",
       "std          0.31963       1.394988\n",
       "min          0.09000       2.060000\n",
       "25%          0.35250       3.262500\n",
       "50%          0.58500       4.520000\n",
       "75%          0.66000       5.442500\n",
       "max          1.17000       5.950000"
      ]
     },
     "execution_count": 104,
     "metadata": {},
     "output_type": "execute_result"
    }
   ],
   "source": [
    "df_2022= df.loc['2022-01-01':'2022-12-31'].copy()\n",
    "df_2022.describe()"
   ]
  },
  {
   "cell_type": "code",
   "execution_count": 103,
   "metadata": {},
   "outputs": [
    {
     "data": {
      "text/html": [
       "<div>\n",
       "<style scoped>\n",
       "    .dataframe tbody tr th:only-of-type {\n",
       "        vertical-align: middle;\n",
       "    }\n",
       "\n",
       "    .dataframe tbody tr th {\n",
       "        vertical-align: top;\n",
       "    }\n",
       "\n",
       "    .dataframe thead th {\n",
       "        text-align: right;\n",
       "    }\n",
       "</style>\n",
       "<table border=\"1\" class=\"dataframe\">\n",
       "  <thead>\n",
       "    <tr style=\"text-align: right;\">\n",
       "      <th></th>\n",
       "      <th>inflation_mom</th>\n",
       "      <th>inflation_yoy</th>\n",
       "    </tr>\n",
       "  </thead>\n",
       "  <tbody>\n",
       "    <tr>\n",
       "      <th>count</th>\n",
       "      <td>12.000000</td>\n",
       "      <td>12.000000</td>\n",
       "    </tr>\n",
       "    <tr>\n",
       "      <th>mean</th>\n",
       "      <td>0.188333</td>\n",
       "      <td>1.560000</td>\n",
       "    </tr>\n",
       "    <tr>\n",
       "      <th>std</th>\n",
       "      <td>0.161911</td>\n",
       "      <td>0.165639</td>\n",
       "    </tr>\n",
       "    <tr>\n",
       "      <th>min</th>\n",
       "      <td>0.030000</td>\n",
       "      <td>1.330000</td>\n",
       "    </tr>\n",
       "    <tr>\n",
       "      <th>25%</th>\n",
       "      <td>0.080000</td>\n",
       "      <td>1.410000</td>\n",
       "    </tr>\n",
       "    <tr>\n",
       "      <th>50%</th>\n",
       "      <td>0.125000</td>\n",
       "      <td>1.570000</td>\n",
       "    </tr>\n",
       "    <tr>\n",
       "      <th>75%</th>\n",
       "      <td>0.275000</td>\n",
       "      <td>1.665000</td>\n",
       "    </tr>\n",
       "    <tr>\n",
       "      <th>max</th>\n",
       "      <td>0.570000</td>\n",
       "      <td>1.870000</td>\n",
       "    </tr>\n",
       "  </tbody>\n",
       "</table>\n",
       "</div>"
      ],
      "text/plain": [
       "       inflation_mom  inflation_yoy\n",
       "count      12.000000      12.000000\n",
       "mean        0.188333       1.560000\n",
       "std         0.161911       0.165639\n",
       "min         0.030000       1.330000\n",
       "25%         0.080000       1.410000\n",
       "50%         0.125000       1.570000\n",
       "75%         0.275000       1.665000\n",
       "max         0.570000       1.870000"
      ]
     },
     "execution_count": 103,
     "metadata": {},
     "output_type": "execute_result"
    }
   ],
   "source": [
    "df_2021= df.loc['2021-01-01':'2021-12-31'].copy()\n",
    "df_2021.describe()"
   ]
  },
  {
   "cell_type": "code",
   "execution_count": 102,
   "metadata": {},
   "outputs": [
    {
     "data": {
      "text/html": [
       "<div>\n",
       "<style scoped>\n",
       "    .dataframe tbody tr th:only-of-type {\n",
       "        vertical-align: middle;\n",
       "    }\n",
       "\n",
       "    .dataframe tbody tr th {\n",
       "        vertical-align: top;\n",
       "    }\n",
       "\n",
       "    .dataframe thead th {\n",
       "        text-align: right;\n",
       "    }\n",
       "</style>\n",
       "<table border=\"1\" class=\"dataframe\">\n",
       "  <thead>\n",
       "    <tr style=\"text-align: right;\">\n",
       "      <th></th>\n",
       "      <th>inflation_mom</th>\n",
       "      <th>inflation_yoy</th>\n",
       "    </tr>\n",
       "  </thead>\n",
       "  <tbody>\n",
       "    <tr>\n",
       "      <th>count</th>\n",
       "      <td>8.000000</td>\n",
       "      <td>8.000000</td>\n",
       "    </tr>\n",
       "    <tr>\n",
       "      <th>mean</th>\n",
       "      <td>0.187500</td>\n",
       "      <td>2.621250</td>\n",
       "    </tr>\n",
       "    <tr>\n",
       "      <th>std</th>\n",
       "      <td>0.181561</td>\n",
       "      <td>0.358427</td>\n",
       "    </tr>\n",
       "    <tr>\n",
       "      <th>min</th>\n",
       "      <td>0.030000</td>\n",
       "      <td>2.120000</td>\n",
       "    </tr>\n",
       "    <tr>\n",
       "      <th>25%</th>\n",
       "      <td>0.037500</td>\n",
       "      <td>2.415000</td>\n",
       "    </tr>\n",
       "    <tr>\n",
       "      <th>50%</th>\n",
       "      <td>0.130000</td>\n",
       "      <td>2.660000</td>\n",
       "    </tr>\n",
       "    <tr>\n",
       "      <th>75%</th>\n",
       "      <td>0.280000</td>\n",
       "      <td>2.880000</td>\n",
       "    </tr>\n",
       "    <tr>\n",
       "      <th>max</th>\n",
       "      <td>0.520000</td>\n",
       "      <td>3.050000</td>\n",
       "    </tr>\n",
       "  </tbody>\n",
       "</table>\n",
       "</div>"
      ],
      "text/plain": [
       "       inflation_mom  inflation_yoy\n",
       "count       8.000000       8.000000\n",
       "mean        0.187500       2.621250\n",
       "std         0.181561       0.358427\n",
       "min         0.030000       2.120000\n",
       "25%         0.037500       2.415000\n",
       "50%         0.130000       2.660000\n",
       "75%         0.280000       2.880000\n",
       "max         0.520000       3.050000"
      ]
     },
     "execution_count": 102,
     "metadata": {},
     "output_type": "execute_result"
    }
   ],
   "source": [
    "df_2024= df.loc['2024-01-01':'2024-8-31'].copy()\n",
    "df_2024.describe()"
   ]
  },
  {
   "cell_type": "code",
   "execution_count": 101,
   "metadata": {},
   "outputs": [
    {
     "data": {
      "text/html": [
       "<div>\n",
       "<style scoped>\n",
       "    .dataframe tbody tr th:only-of-type {\n",
       "        vertical-align: middle;\n",
       "    }\n",
       "\n",
       "    .dataframe tbody tr th {\n",
       "        vertical-align: top;\n",
       "    }\n",
       "\n",
       "    .dataframe thead th {\n",
       "        text-align: right;\n",
       "    }\n",
       "</style>\n",
       "<table border=\"1\" class=\"dataframe\">\n",
       "  <thead>\n",
       "    <tr style=\"text-align: right;\">\n",
       "      <th></th>\n",
       "      <th>inflation_mom</th>\n",
       "      <th>inflation_yoy</th>\n",
       "    </tr>\n",
       "  </thead>\n",
       "  <tbody>\n",
       "    <tr>\n",
       "      <th>count</th>\n",
       "      <td>6.000000</td>\n",
       "      <td>6.000000</td>\n",
       "    </tr>\n",
       "    <tr>\n",
       "      <th>mean</th>\n",
       "      <td>0.156667</td>\n",
       "      <td>1.498333</td>\n",
       "    </tr>\n",
       "    <tr>\n",
       "      <th>std</th>\n",
       "      <td>0.170372</td>\n",
       "      <td>0.129987</td>\n",
       "    </tr>\n",
       "    <tr>\n",
       "      <th>min</th>\n",
       "      <td>0.040000</td>\n",
       "      <td>1.320000</td>\n",
       "    </tr>\n",
       "    <tr>\n",
       "      <th>25%</th>\n",
       "      <td>0.050000</td>\n",
       "      <td>1.425000</td>\n",
       "    </tr>\n",
       "    <tr>\n",
       "      <th>50%</th>\n",
       "      <td>0.060000</td>\n",
       "      <td>1.490000</td>\n",
       "    </tr>\n",
       "    <tr>\n",
       "      <th>75%</th>\n",
       "      <td>0.227500</td>\n",
       "      <td>1.577500</td>\n",
       "    </tr>\n",
       "    <tr>\n",
       "      <th>max</th>\n",
       "      <td>0.450000</td>\n",
       "      <td>1.680000</td>\n",
       "    </tr>\n",
       "  </tbody>\n",
       "</table>\n",
       "</div>"
      ],
      "text/plain": [
       "       inflation_mom  inflation_yoy\n",
       "count       6.000000       6.000000\n",
       "mean        0.156667       1.498333\n",
       "std         0.170372       0.129987\n",
       "min         0.040000       1.320000\n",
       "25%         0.050000       1.425000\n",
       "50%         0.060000       1.490000\n",
       "75%         0.227500       1.577500\n",
       "max         0.450000       1.680000"
      ]
     },
     "execution_count": 101,
     "metadata": {},
     "output_type": "execute_result"
    }
   ],
   "source": [
    "df_2020= df.loc['2020-07-31':'2020-12-31'].copy()\n",
    "df_2020.describe()"
   ]
  },
  {
   "cell_type": "markdown",
   "metadata": {},
   "source": [
    "### Implementing your webscrapping to the flask dashboard\n",
    "\n",
    "- Copy paste all of your web scrapping process to the desired position on the `app.py`\n",
    "- Change the title of the dashboard in `index.html`"
   ]
  },
  {
   "cell_type": "markdown",
   "metadata": {},
   "source": [
    "## Finishing This Notebook with Your Analysis and Conclusion\n",
    "\n",
    "First you can do start with making the data visualization."
   ]
  },
  {
   "cell_type": "markdown",
   "metadata": {},
   "source": [
    "## Analysis\n",
    "\n",
    "(Put your analysis and conclusion here.)"
   ]
  },
  {
   "cell_type": "code",
   "execution_count": 100,
   "metadata": {},
   "outputs": [
    {
     "data": {
      "image/png": "[encoded data removed]",
      "text/plain": [
       "<Figure size 1400x800 with 1 Axes>"
      ]
     },
     "metadata": {},
     "output_type": "display_data"
    }
   ],
   "source": [
    "# Plotting\n",
    "plt.figure(figsize=(14, 8))\n",
    "\n",
    "for year, data in Inflation_Rate.items():\n",
    "    plt.plot(data.index, data['inflation_mom'], marker='o', label=year)\n",
    "\n",
    "plt.xlabel('Date')\n",
    "plt.ylabel('Inflation Rate (%)')\n",
    "plt.title('Month-over-Month Inflation Rate (2020-2024)')\n",
    "plt.legend()\n",
    "plt.xticks(rotation=45)\n",
    "plt.grid(True)\n",
    "plt.tight_layout()\n",
    "plt.show()"
   ]
  },
  {
   "cell_type": "code",
   "execution_count": 133,
   "metadata": {},
   "outputs": [
    {
     "data": {
      "text/plain": [
       "{'df_2020':             inflation_mom  inflation_yoy\n",
       " period                                  \n",
       " 2020-07-31           0.04           1.54\n",
       " 2020-08-31           0.05           1.32\n",
       " 2020-09-30           0.05           1.42\n",
       " 2020-10-31           0.07           1.44\n",
       " 2020-11-30           0.28           1.59\n",
       " 2020-12-31           0.45           1.68,\n",
       " 'df_2021':             inflation_mom  inflation_yoy\n",
       " period                                  \n",
       " 2021-01-31           0.26           1.55\n",
       " 2021-02-28           0.10           1.38\n",
       " 2021-03-31           0.08           1.37\n",
       " 2021-04-30           0.13           1.42\n",
       " 2021-05-31           0.32           1.68\n",
       " 2021-06-30           0.16           1.33\n",
       " 2021-07-31           0.08           1.52\n",
       " 2021-08-31           0.03           1.59\n",
       " 2021-09-30           0.04           1.60\n",
       " 2021-10-31           0.12           1.66\n",
       " 2021-11-30           0.37           1.75\n",
       " 2021-12-31           0.57           1.87,\n",
       " 'df_2022':             inflation_mom  inflation_yoy\n",
       " period                                  \n",
       " 2022-01-31           0.56           2.18\n",
       " 2022-02-28           0.54           2.06\n",
       " 2022-03-31           0.66           2.64\n",
       " 2022-04-30           0.95           3.47\n",
       " 2022-05-31           0.40           3.55\n",
       " 2022-06-30           0.61           4.35\n",
       " 2022-07-31           0.64           4.94\n",
       " 2022-08-31           0.21           4.69\n",
       " 2022-09-30           1.17           5.95\n",
       " 2022-10-31           0.11           5.71\n",
       " 2022-11-30           0.09           5.42\n",
       " 2022-12-31           0.66           5.51,\n",
       " 'df_2023':             inflation_mom  inflation_yoy\n",
       " period                                  \n",
       " 2023-01-31           0.34           5.28\n",
       " 2023-02-28           0.16           5.47\n",
       " 2023-03-31           0.18           4.97\n",
       " 2023-04-30           0.33           4.33\n",
       " 2023-05-31           0.09           4.00\n",
       " 2023-06-30           0.14           3.52\n",
       " 2023-07-31           0.21           3.08\n",
       " 2023-08-31           0.02           3.27\n",
       " 2023-09-30           0.19           2.28\n",
       " 2023-10-31           0.17           2.56\n",
       " 2023-11-30           0.38           2.86\n",
       " 2023-12-31           0.41           2.61,\n",
       " 'df_2024':             inflation_mom  inflation_yoy\n",
       " period                                  \n",
       " 2024-01-31           0.04           2.57\n",
       " 2024-02-29           0.37           2.75\n",
       " 2024-03-31           0.52           3.05\n",
       " 2024-04-30           0.25           3.00\n",
       " 2024-05-31           0.03           2.84\n",
       " 2024-06-30           0.08           2.51\n",
       " 2024-07-31           0.18           2.13\n",
       " 2024-08-31           0.03           2.12}"
      ]
     },
     "execution_count": 133,
     "metadata": {},
     "output_type": "execute_result"
    }
   ],
   "source": [
    "Inflation_Rate"
   ]
  },
  {
   "cell_type": "code",
   "execution_count": 189,
   "metadata": {},
   "outputs": [
    {
     "name": "stdout",
     "output_type": "stream",
     "text": [
      "        average_mom  max_mom  min_mom  median_mom\n",
      "period                                           \n",
      "2020       0.156667     0.45     0.04       0.060\n",
      "2021       0.188333     0.57     0.03       0.125\n",
      "2022       0.550000     1.17     0.09       0.585\n",
      "2023       0.218333     0.41     0.02       0.185\n",
      "2024       0.187500     0.52     0.03       0.130\n"
     ]
    }
   ],
   "source": [
    "\n",
    "# Group by year and calculate summary statistics\n",
    "df_grouped = df.groupby(df.index.year).agg(\n",
    "    average_mom=('inflation_mom', 'mean'),\n",
    "    max_mom=('inflation_mom', 'max'),\n",
    "    min_mom=('inflation_mom', 'min'),\n",
    "    median_mom=('inflation_mom', 'median')\n",
    ")\n",
    "\n",
    "# Display the table\n",
    "print(df_grouped)"
   ]
  },
  {
   "cell_type": "code",
   "execution_count": 190,
   "metadata": {},
   "outputs": [
    {
     "data": {
      "image/png": "[encoded data removed]",
      "text/plain": [
       "<Figure size 1000x600 with 1 Axes>"
      ]
     },
     "metadata": {},
     "output_type": "display_data"
    }
   ],
   "source": [
    "import matplotlib.pyplot as plt\n",
    "import numpy as np\n",
    "\n",
    "# Set the figure size\n",
    "plt.figure(figsize=(10, 6))\n",
    "\n",
    "# Define the width of each bar\n",
    "bar_width = 0.2\n",
    "\n",
    "# Define the positions for each group of bars\n",
    "r1 = np.arange(len(df_grouped))\n",
    "r2 = [x + bar_width for x in r1]\n",
    "r3 = [x + bar_width for x in r2]\n",
    "r4 = [x + bar_width for x in r3]\n",
    "\n",
    "# Plotting each statistic as a group of bars\n",
    "plt.bar(r1, df_grouped['average_mom'], color='b', width=bar_width, edgecolor='grey', label='Average MoM')\n",
    "plt.bar(r2, df_grouped['max_mom'], color='g', width=bar_width, edgecolor='grey', label='Max MoM')\n",
    "plt.bar(r3, df_grouped['min_mom'], color='r', width=bar_width, edgecolor='grey', label='Min MoM')\n",
    "plt.bar(r4, df_grouped['median_mom'], color='c', width=bar_width, edgecolor='grey', label='Median MoM')\n",
    "\n",
    "# Adding labels\n",
    "plt.xlabel('Year', fontweight='bold')\n",
    "plt.ylabel('Inflation Rate (%)', fontweight='bold')\n",
    "plt.title('Yearly Summary Statistics of Inflation Rates (MoM)', fontweight='bold')\n",
    "plt.xticks([r + bar_width for r in range(len(df_grouped))], df_grouped.index)\n",
    "\n",
    "# Adding legend\n",
    "plt.legend()\n",
    "\n",
    "# Display the plot\n",
    "plt.show()\n"
   ]
  },
  {
   "cell_type": "code",
   "execution_count": 193,
   "metadata": {},
   "outputs": [
    {
     "name": "stdout",
     "output_type": "stream",
     "text": [
      "        average_yoy  max_yoy  min_yoy  median_yoy\n",
      "period                                           \n",
      "2020       1.498333     1.68     1.32       1.490\n",
      "2021       1.560000     1.87     1.33       1.570\n",
      "2022       4.205833     5.95     2.06       4.520\n",
      "2023       3.685833     5.47     2.28       3.395\n",
      "2024       2.621250     3.05     2.12       2.660\n"
     ]
    }
   ],
   "source": [
    "# Group by year and calculate summary statistics\n",
    "df_grouped_year = df.groupby(df.index.year).agg(\n",
    "    average_yoy=('inflation_yoy', 'mean'),\n",
    "    max_yoy=('inflation_yoy', 'max'),\n",
    "    min_yoy=('inflation_yoy', 'min'),\n",
    "    median_yoy=('inflation_yoy', 'median')\n",
    ")\n",
    "\n",
    "# Display the table\n",
    "print(df_grouped_year)"
   ]
  },
  {
   "cell_type": "code",
   "execution_count": 195,
   "metadata": {},
   "outputs": [
    {
     "data": {
      "image/png": "[encoded data removed]",
      "text/plain": [
       "<Figure size 1000x600 with 1 Axes>"
      ]
     },
     "metadata": {},
     "output_type": "display_data"
    }
   ],
   "source": [
    "# Set the figure size\n",
    "plt.figure(figsize=(10, 6))\n",
    "\n",
    "# Define the width of each bar\n",
    "bar_width = 0.2\n",
    "\n",
    "# Define the positions for each group of bars\n",
    "r1 = np.arange(len(df_grouped_year))\n",
    "r2 = [x + bar_width for x in r1]\n",
    "r3 = [x + bar_width for x in r2]\n",
    "r4 = [x + bar_width for x in r3]\n",
    "\n",
    "# Plotting each statistic as a group of bars\n",
    "plt.bar(r1, df_grouped_year['average_yoy'], color='b', width=bar_width, edgecolor='grey', label='Average YoY')\n",
    "plt.bar(r2, df_grouped_year['max_yoy'], color='g', width=bar_width, edgecolor='grey', label='Max YoY')\n",
    "plt.bar(r3, df_grouped_year['min_yoy'], color='r', width=bar_width, edgecolor='grey', label='Min YoY')\n",
    "plt.bar(r4, df_grouped_year['median_yoy'], color='c', width=bar_width, edgecolor='grey', label='Median YoY')\n",
    "\n",
    "# Adding labels\n",
    "plt.xlabel('Year', fontweight='bold')\n",
    "plt.ylabel('Inflation Rate (%)', fontweight='bold')\n",
    "plt.title('Yearly Summary Statistics of Inflation Rates (YoY)', fontweight='bold')\n",
    "plt.xticks([r + bar_width for r in range(len(df_grouped))], df_grouped.index)\n",
    "\n",
    "# Adding legend\n",
    "plt.legend()\n",
    "\n",
    "# Display the plot\n",
    "plt.show()\n"
   ]
  },
  {
   "cell_type": "code",
   "execution_count": 199,
   "metadata": {},
   "outputs": [
    {
     "name": "stdout",
     "output_type": "stream",
     "text": [
      "        average_mom  max_mom  min_mom  median_mom  average_yoy  max_yoy  \\\n",
      "period                                                                    \n",
      "2020       0.156667     0.45     0.04       0.060     1.498333     1.68   \n",
      "2021       0.188333     0.57     0.03       0.125     1.560000     1.87   \n",
      "2022       0.550000     1.17     0.09       0.585     4.205833     5.95   \n",
      "2023       0.218333     0.41     0.02       0.185     3.685833     5.47   \n",
      "2024       0.187500     0.52     0.03       0.130     2.621250     3.05   \n",
      "\n",
      "        min_yoy  median_yoy  \n",
      "period                       \n",
      "2020       1.32       1.490  \n",
      "2021       1.33       1.570  \n",
      "2022       2.06       4.520  \n",
      "2023       2.28       3.395  \n",
      "2024       2.12       2.660  \n"
     ]
    }
   ],
   "source": [
    "# Combine the two DataFrames into one\n",
    "df_combined = pd.concat([df_grouped, df_grouped_year], axis=1)\n",
    "\n",
    "# Display the combined DataFrame\n",
    "print(df_combined)"
   ]
  },
  {
   "cell_type": "code",
   "execution_count": 200,
   "metadata": {},
   "outputs": [
    {
     "name": "stdout",
     "output_type": "stream",
     "text": [
      "period           2020      2021      2022      2023     2024\n",
      "average_mom  0.156667  0.188333  0.550000  0.218333  0.18750\n",
      "max_mom      0.450000  0.570000  1.170000  0.410000  0.52000\n",
      "min_mom      0.040000  0.030000  0.090000  0.020000  0.03000\n",
      "median_mom   0.060000  0.125000  0.585000  0.185000  0.13000\n",
      "average_yoy  1.498333  1.560000  4.205833  3.685833  2.62125\n",
      "max_yoy      1.680000  1.870000  5.950000  5.470000  3.05000\n",
      "min_yoy      1.320000  1.330000  2.060000  2.280000  2.12000\n",
      "median_yoy   1.490000  1.570000  4.520000  3.395000  2.66000\n"
     ]
    }
   ],
   "source": [
    "# Transpose the DataFrame to switch rows and columns\n",
    "df_transposed = df_combined.T\n",
    "\n",
    "# Display the transposed DataFrame\n",
    "print(df_transposed)"
   ]
  },
  {
   "cell_type": "code",
   "execution_count": 214,
   "metadata": {},
   "outputs": [
    {
     "name": "stdout",
     "output_type": "stream",
     "text": [
      "Highest MoM inflation: 1.17 in 2022-09-30 00:00:00\n",
      "Lowest MoM inflation: 0.02 in 2023-08-31 00:00:00\n",
      "Highest YoY inflation: 5.95 in 2022-09-30 00:00:00\n",
      "Lowest YoY inflation: 1.32 in 2020-08-31 00:00:00\n"
     ]
    }
   ],
   "source": [
    "# Find the month and year with the highest and lowest inflation for MoM\n",
    "highest_mom = df.loc[df['inflation_mom'].idxmax()]\n",
    "lowest_mom = df.loc[df['inflation_mom'].idxmin()]\n",
    "\n",
    "print(f\"Highest MoM inflation: {highest_mom['inflation_mom']} in {highest_mom.name}\")\n",
    "print(f\"Lowest MoM inflation: {lowest_mom['inflation_mom']} in {lowest_mom.name}\")\n",
    "\n",
    "# Find the month and year with the highest and lowest inflation for YoY\n",
    "highest_yoy = df.loc[df['inflation_yoy'].idxmax()]\n",
    "lowest_yoy = df.loc[df['inflation_yoy'].idxmin()]\n",
    "\n",
    "print(f\"Highest YoY inflation: {highest_yoy['inflation_yoy']} in {highest_yoy.name}\")\n",
    "print(f\"Lowest YoY inflation: {lowest_yoy['inflation_yoy']} in {lowest_yoy.name}\")\n"
   ]
  },
  {
   "cell_type": "markdown",
   "metadata": {},
   "source": [
    "#Analysis\n",
    "\n",
    "**Month with the Highest Inflation:**\n",
    "\n",
    "* MoM (Month-over-Month):\n",
    "The highest MoM inflation rate is 1.17% in September 2022.\n",
    "\n",
    "* YoY (Year-over-Year):\n",
    "The highest YoY inflation rate is 5.95% in September 2022.\n",
    "\n",
    "**Month with the Lowest Inflation:**\n",
    "\n",
    "* MoM (Month-over-Month):\n",
    "The lowest MoM inflation rate is 0.02% in August 2023.\n",
    "\n",
    "* YoY (Year-over-Year):\n",
    "The lowest YoY inflation rate is 1.32% in August 2020."
   ]
  },
  {
   "cell_type": "markdown",
   "metadata": {},
   "source": [
    "### Conclusion of Inflation Trends (July 2020 - August 2024)\n",
    "\n",
    "The analysis of inflation data from July 2020 to August 2024 reveals significant fluctuations in both month-over-month (MoM) and year-over-year (YoY) inflation rates, highlighting key periods of inflationary pressure and stability.\n",
    "\n",
    "1. **Highest Inflation Period:**\n",
    "   - The **highest inflation** rates, both MoM and YoY, occurred in **September 2022**. \n",
    "   - This suggests a period of sharp price increases, likely driven by policy changes(the authorities partially removed caps on Fuel Prices in Sept 2022) that heightened inflationary pressures. Resulting in a 30% increase in gasoline prices.This led to the highest inflation level. The simultaneous peak in both MoM and YoY indicates that this was not just a short-term spike but part of a broader trend of rising prices throughout 2022.\n",
    "\n",
    "2. **Lowest Inflation Period:**\n",
    "   - The **lowest MoM inflation** was recorded in **August 2023**, while the **lowest YoY inflation** occurred in **August 2020**.\n",
    "   - The low MoM rate in August 2023 suggests a temporary period of price stability or reduction, potentially due to reduced demand, seasonal factors, or effective monetary policies. Meanwhile, the low YoY rate in August 2020 reflects a relatively stable pricing environment during the early part of the analyzed period, which may have been influenced by pandemic-related economic conditions, including reduced consumption and supply constraints.\n",
    "\n",
    "3. **Overall Trends:**\n",
    "   - The year **2022** showed the most significant inflationary pressure, both on a MoM and YoY basis, indicating an overall upward trend in inflation during that period. This is indicative of a challenging economic environment characterized by consistent price increases across multiple months.\n",
    "   - By contrast, the years **2020** and **2021** reflect more moderate inflation trends, with relatively lower fluctuations, suggesting a period of economic stabilization following the initial shocks of the pandemic.\n",
    "\n",
    "4. **Comparative Insights:**\n",
    "   - **YoY inflation** generally shows more sustained periods of increase and decrease compared to **MoM inflation**, which tends to capture more short-term volatility. This suggests that while there are temporary fluctuations in inflation rates from month to month, the longer-term trend over the years shows a more consistent pattern of change.\n",
    "\n",
    "### Implications\n",
    "\n",
    "Understanding these inflation trends is crucial for policymakers, businesses, and consumers. The identification of periods with high inflationary pressure can help in planning for economic resilience, while recognizing periods of low inflation can provide opportunities for investment and spending. Furthermore, the data underscores the importance of closely monitoring both short-term (MoM) and long-term (YoY) inflation metrics to gain a comprehensive understanding of the economic landscape."
   ]
  },
  {
   "cell_type": "markdown",
   "metadata": {},
   "source": [
    "### Extra Challange\n",
    "\n",
    "This will be not included to the scoring. \n",
    "\n",
    "- You can create additional visualization/analysis from the data.\n",
    "- Implement it to the dashboard with at `app.py` dan `index.html`."
   ]
  }
 ],
 "metadata": {
  "kernelspec": {
   "display_name": "Capstone",
   "language": "python",
   "name": "python3"
  },
  "language_info": {
   "codemirror_mode": {
    "name": "ipython",
    "version": 3
   },
   "file_extension": ".py",
   "mimetype": "text/x-python",
   "name": "python",
   "nbconvert_exporter": "python",
   "pygments_lexer": "ipython3",
   "version": "3.10.14"
  }
 },
 "nbformat": 4,
 "nbformat_minor": 2
}
